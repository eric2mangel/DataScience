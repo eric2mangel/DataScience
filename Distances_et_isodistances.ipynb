{
  "nbformat": 4,
  "nbformat_minor": 0,
  "metadata": {
    "colab": {
      "name": "Distances et isodistances.ipynb",
      "provenance": [],
      "collapsed_sections": []
    },
    "kernelspec": {
      "name": "python3",
      "display_name": "Python 3"
    }
  },
  "cells": [
    {
      "cell_type": "markdown",
      "metadata": {
        "id": "_O3FIdGL5paD"
      },
      "source": [
        "#Avec quelques villes françaises"
      ]
    },
    {
      "cell_type": "code",
      "metadata": {
        "id": "pQG15KFzAjts",
        "colab": {
          "base_uri": "https://localhost:8080/",
          "height": 70
        },
        "outputId": "944fab2e-05fb-46a7-ad7a-02968c4afba0"
      },
      "source": [
        "from  geopy.geocoders import Nominatim\n",
        "geolocator = Nominatim()"
      ],
      "execution_count": null,
      "outputs": [
        {
          "output_type": "stream",
          "text": [
            "/usr/local/lib/python3.6/dist-packages/geopy/geocoders/osm.py:143: UserWarning: Using Nominatim with the default \"geopy/1.17.0\" `user_agent` is strongly discouraged, as it violates Nominatim's ToS https://operations.osmfoundation.org/policies/nominatim/ and may possibly cause 403 and 429 HTTP errors. Please specify a custom `user_agent` with `Nominatim(user_agent=\"my-application\")` or by overriding the default `user_agent`: `geopy.geocoders.options.default_user_agent = \"my-application\"`. In geopy 2.0 this will become an exception.\n",
            "  UserWarning\n"
          ],
          "name": "stderr"
        }
      ]
    },
    {
      "cell_type": "code",
      "metadata": {
        "id": "ynzxv7n5yvHa",
        "colab": {
          "base_uri": "https://localhost:8080/",
          "height": 168
        },
        "outputId": "88455aa4-3f70-4b46-8b27-a9ba11b8ce49"
      },
      "source": [
        "import pandas as pd\n",
        "villes = [\"Dunkerque\",\"Brest\",\"Paris\",\"Strasbourg\",\"Lyon\",\"Toulouse\",\"Marseille\",\"Nice\",\"Perpignan\"]\n",
        "\n",
        "latlong=[]\n",
        "\n",
        "for i in villes:\n",
        "  loc = geolocator.geocode(i+','+ \"France\")\n",
        "  latlong.append((loc.latitude,loc.longitude))\n",
        "\n",
        "latlong"
      ],
      "execution_count": null,
      "outputs": [
        {
          "output_type": "execute_result",
          "data": {
            "text/plain": [
              "[(51.0347708, 2.3772525),\n",
              " (48.3905283, -4.4860088),\n",
              " (48.8566969, 2.3514616),\n",
              " (48.584614, 7.7507127),\n",
              " (45.7578137, 4.8320114),\n",
              " (43.6044622, 1.4442469),\n",
              " (43.2961743, 5.3699525),\n",
              " (43.7009358, 7.2683912),\n",
              " (42.6985304, 2.8953121)]"
            ]
          },
          "metadata": {
            "tags": []
          },
          "execution_count": 2
        }
      ]
    },
    {
      "cell_type": "code",
      "metadata": {
        "id": "AnzuDijbRxMh"
      },
      "source": [
        "table_villes=pd.DataFrame(index=villes,columns=['LAT','LONG'],data=latlong)"
      ],
      "execution_count": null,
      "outputs": []
    },
    {
      "cell_type": "code",
      "metadata": {
        "id": "uaxGpNjDSKVp",
        "colab": {
          "base_uri": "https://localhost:8080/",
          "height": 314
        },
        "outputId": "cc914fcf-cd51-4458-f6ba-18c52439c4f9"
      },
      "source": [
        "table_villes"
      ],
      "execution_count": null,
      "outputs": [
        {
          "output_type": "execute_result",
          "data": {
            "text/html": [
              "<div>\n",
              "<style scoped>\n",
              "    .dataframe tbody tr th:only-of-type {\n",
              "        vertical-align: middle;\n",
              "    }\n",
              "\n",
              "    .dataframe tbody tr th {\n",
              "        vertical-align: top;\n",
              "    }\n",
              "\n",
              "    .dataframe thead th {\n",
              "        text-align: right;\n",
              "    }\n",
              "</style>\n",
              "<table border=\"1\" class=\"dataframe\">\n",
              "  <thead>\n",
              "    <tr style=\"text-align: right;\">\n",
              "      <th></th>\n",
              "      <th>LAT</th>\n",
              "      <th>LONG</th>\n",
              "    </tr>\n",
              "  </thead>\n",
              "  <tbody>\n",
              "    <tr>\n",
              "      <th>Dunkerque</th>\n",
              "      <td>51.034771</td>\n",
              "      <td>2.377252</td>\n",
              "    </tr>\n",
              "    <tr>\n",
              "      <th>Brest</th>\n",
              "      <td>48.390528</td>\n",
              "      <td>-4.486009</td>\n",
              "    </tr>\n",
              "    <tr>\n",
              "      <th>Paris</th>\n",
              "      <td>48.856697</td>\n",
              "      <td>2.351462</td>\n",
              "    </tr>\n",
              "    <tr>\n",
              "      <th>Strasbourg</th>\n",
              "      <td>48.584614</td>\n",
              "      <td>7.750713</td>\n",
              "    </tr>\n",
              "    <tr>\n",
              "      <th>Lyon</th>\n",
              "      <td>45.757814</td>\n",
              "      <td>4.832011</td>\n",
              "    </tr>\n",
              "    <tr>\n",
              "      <th>Toulouse</th>\n",
              "      <td>43.604462</td>\n",
              "      <td>1.444247</td>\n",
              "    </tr>\n",
              "    <tr>\n",
              "      <th>Marseille</th>\n",
              "      <td>43.296174</td>\n",
              "      <td>5.369953</td>\n",
              "    </tr>\n",
              "    <tr>\n",
              "      <th>Nice</th>\n",
              "      <td>43.700936</td>\n",
              "      <td>7.268391</td>\n",
              "    </tr>\n",
              "    <tr>\n",
              "      <th>Perpignan</th>\n",
              "      <td>42.698530</td>\n",
              "      <td>2.895312</td>\n",
              "    </tr>\n",
              "  </tbody>\n",
              "</table>\n",
              "</div>"
            ],
            "text/plain": [
              "                  LAT      LONG\n",
              "Dunkerque   51.034771  2.377252\n",
              "Brest       48.390528 -4.486009\n",
              "Paris       48.856697  2.351462\n",
              "Strasbourg  48.584614  7.750713\n",
              "Lyon        45.757814  4.832011\n",
              "Toulouse    43.604462  1.444247\n",
              "Marseille   43.296174  5.369953\n",
              "Nice        43.700936  7.268391\n",
              "Perpignan   42.698530  2.895312"
            ]
          },
          "metadata": {
            "tags": []
          },
          "execution_count": 4
        }
      ]
    },
    {
      "cell_type": "code",
      "metadata": {
        "id": "XlJI2ispAX81"
      },
      "source": [
        "distances = pd.DataFrame(columns=villes,index=villes)"
      ],
      "execution_count": null,
      "outputs": []
    },
    {
      "cell_type": "code",
      "metadata": {
        "id": "7Khj9DFMAvmh"
      },
      "source": [
        "from geopy.distance import geodesic \n",
        "for nr,row in enumerate(villes):\n",
        "  for nc,col in enumerate(villes):\n",
        "    distances.loc[row,col] = geodesic(latlong[nr], latlong[nc]).km"
      ],
      "execution_count": null,
      "outputs": []
    },
    {
      "cell_type": "code",
      "metadata": {
        "id": "8hHJvIUd6fn-",
        "colab": {
          "base_uri": "https://localhost:8080/",
          "height": 314
        },
        "outputId": "4b20d16f-b5ba-47fd-b692-102f853ebd3a"
      },
      "source": [
        "distances"
      ],
      "execution_count": null,
      "outputs": [
        {
          "output_type": "execute_result",
          "data": {
            "text/html": [
              "<div>\n",
              "<style scoped>\n",
              "    .dataframe tbody tr th:only-of-type {\n",
              "        vertical-align: middle;\n",
              "    }\n",
              "\n",
              "    .dataframe tbody tr th {\n",
              "        vertical-align: top;\n",
              "    }\n",
              "\n",
              "    .dataframe thead th {\n",
              "        text-align: right;\n",
              "    }\n",
              "</style>\n",
              "<table border=\"1\" class=\"dataframe\">\n",
              "  <thead>\n",
              "    <tr style=\"text-align: right;\">\n",
              "      <th></th>\n",
              "      <th>Dunkerque</th>\n",
              "      <th>Brest</th>\n",
              "      <th>Paris</th>\n",
              "      <th>Strasbourg</th>\n",
              "      <th>Lyon</th>\n",
              "      <th>Toulouse</th>\n",
              "      <th>Marseille</th>\n",
              "      <th>Nice</th>\n",
              "      <th>Perpignan</th>\n",
              "    </tr>\n",
              "  </thead>\n",
              "  <tbody>\n",
              "    <tr>\n",
              "      <th>Dunkerque</th>\n",
              "      <td>0</td>\n",
              "      <td>575.429</td>\n",
              "      <td>242.27</td>\n",
              "      <td>472.945</td>\n",
              "      <td>614.205</td>\n",
              "      <td>829.066</td>\n",
              "      <td>889.549</td>\n",
              "      <td>894.654</td>\n",
              "      <td>927.559</td>\n",
              "    </tr>\n",
              "    <tr>\n",
              "      <th>Brest</th>\n",
              "      <td>575.429</td>\n",
              "      <td>0</td>\n",
              "      <td>506.553</td>\n",
              "      <td>903.822</td>\n",
              "      <td>765.2</td>\n",
              "      <td>702.446</td>\n",
              "      <td>951.019</td>\n",
              "      <td>1046.88</td>\n",
              "      <td>855.073</td>\n",
              "    </tr>\n",
              "    <tr>\n",
              "      <th>Paris</th>\n",
              "      <td>242.27</td>\n",
              "      <td>506.553</td>\n",
              "      <td>0</td>\n",
              "      <td>398.343</td>\n",
              "      <td>392.224</td>\n",
              "      <td>587.983</td>\n",
              "      <td>660.562</td>\n",
              "      <td>686.726</td>\n",
              "      <td>685.762</td>\n",
              "    </tr>\n",
              "    <tr>\n",
              "      <th>Strasbourg</th>\n",
              "      <td>472.945</td>\n",
              "      <td>903.822</td>\n",
              "      <td>398.343</td>\n",
              "      <td>0</td>\n",
              "      <td>384.286</td>\n",
              "      <td>737.229</td>\n",
              "      <td>616.037</td>\n",
              "      <td>544.115</td>\n",
              "      <td>755.452</td>\n",
              "    </tr>\n",
              "    <tr>\n",
              "      <th>Lyon</th>\n",
              "      <td>614.205</td>\n",
              "      <td>765.2</td>\n",
              "      <td>392.224</td>\n",
              "      <td>384.286</td>\n",
              "      <td>0</td>\n",
              "      <td>359.665</td>\n",
              "      <td>276.864</td>\n",
              "      <td>299.128</td>\n",
              "      <td>373.468</td>\n",
              "    </tr>\n",
              "    <tr>\n",
              "      <th>Toulouse</th>\n",
              "      <td>829.066</td>\n",
              "      <td>702.446</td>\n",
              "      <td>587.983</td>\n",
              "      <td>737.229</td>\n",
              "      <td>359.665</td>\n",
              "      <td>0</td>\n",
              "      <td>319.568</td>\n",
              "      <td>469.874</td>\n",
              "      <td>155.11</td>\n",
              "    </tr>\n",
              "    <tr>\n",
              "      <th>Marseille</th>\n",
              "      <td>889.549</td>\n",
              "      <td>951.019</td>\n",
              "      <td>660.562</td>\n",
              "      <td>616.037</td>\n",
              "      <td>276.864</td>\n",
              "      <td>319.568</td>\n",
              "      <td>0</td>\n",
              "      <td>159.989</td>\n",
              "      <td>212.425</td>\n",
              "    </tr>\n",
              "    <tr>\n",
              "      <th>Nice</th>\n",
              "      <td>894.654</td>\n",
              "      <td>1046.88</td>\n",
              "      <td>686.726</td>\n",
              "      <td>544.115</td>\n",
              "      <td>299.128</td>\n",
              "      <td>469.874</td>\n",
              "      <td>159.989</td>\n",
              "      <td>0</td>\n",
              "      <td>372.412</td>\n",
              "    </tr>\n",
              "    <tr>\n",
              "      <th>Perpignan</th>\n",
              "      <td>927.559</td>\n",
              "      <td>855.073</td>\n",
              "      <td>685.762</td>\n",
              "      <td>755.452</td>\n",
              "      <td>373.468</td>\n",
              "      <td>155.11</td>\n",
              "      <td>212.425</td>\n",
              "      <td>372.412</td>\n",
              "      <td>0</td>\n",
              "    </tr>\n",
              "  </tbody>\n",
              "</table>\n",
              "</div>"
            ],
            "text/plain": [
              "           Dunkerque    Brest    Paris  ... Marseille     Nice Perpignan\n",
              "Dunkerque          0  575.429   242.27  ...   889.549  894.654   927.559\n",
              "Brest        575.429        0  506.553  ...   951.019  1046.88   855.073\n",
              "Paris         242.27  506.553        0  ...   660.562  686.726   685.762\n",
              "Strasbourg   472.945  903.822  398.343  ...   616.037  544.115   755.452\n",
              "Lyon         614.205    765.2  392.224  ...   276.864  299.128   373.468\n",
              "Toulouse     829.066  702.446  587.983  ...   319.568  469.874    155.11\n",
              "Marseille    889.549  951.019  660.562  ...         0  159.989   212.425\n",
              "Nice         894.654  1046.88  686.726  ...   159.989        0   372.412\n",
              "Perpignan    927.559  855.073  685.762  ...   212.425  372.412         0\n",
              "\n",
              "[9 rows x 9 columns]"
            ]
          },
          "metadata": {
            "tags": []
          },
          "execution_count": 7
        }
      ]
    },
    {
      "cell_type": "code",
      "metadata": {
        "id": "G5WdwKfUDhiC",
        "colab": {
          "base_uri": "https://localhost:8080/",
          "height": 168
        },
        "outputId": "9b2c1202-e36d-4859-f6fc-f7223469e00c"
      },
      "source": [
        "#librairie pour MDS\n",
        "from sklearn import manifold\n",
        "#MDS\n",
        "mds = manifold.MDS(n_components=2,random_state=1,dissimilarity=\"precomputed\")\n",
        "#apprentissage\n",
        "mds.fit(distances)\n",
        "\n",
        "D=distances.copy()\n",
        "#coordonnées des points dans le plan puisque (n_components = 2)\n",
        "points = mds.embedding_\n",
        "print(points)\n"
      ],
      "execution_count": null,
      "outputs": [
        {
          "output_type": "stream",
          "text": [
            "[[-110.88663319  523.3914175 ]\n",
            " [ 458.20490975  443.74081187]\n",
            " [ -26.44545645  296.50904142]\n",
            " [-394.04056101  143.83695594]\n",
            " [ -89.47453798  -90.54649527]\n",
            " [ 243.85427241 -225.72889094]\n",
            " [ -44.54739743 -363.6828248 ]\n",
            " [-204.60788901 -366.47426306]\n",
            " [ 167.94329291 -361.04575265]]\n"
          ],
          "name": "stdout"
        }
      ]
    },
    {
      "cell_type": "code",
      "metadata": {
        "id": "xVoKGZQBDURX",
        "colab": {
          "base_uri": "https://localhost:8080/",
          "height": 624
        },
        "outputId": "9f537b22-c70c-411f-bfb5-fede0650aa25"
      },
      "source": [
        "#librairie graphique\n",
        "import matplotlib.pyplot as plt\n",
        "#définir la taille du graphique\n",
        "ax = plt.axes([0,0,2,2])\n",
        "#ajuster le ratio abscisse - ordonnée\n",
        "ax.set_aspect(aspect='equal')\n",
        "#placer les points dans le plan (abscisse, ordonnée)\n",
        "plt.scatter(points[:,0],points[:,1],color='silver',s=500)\n",
        "#ajouter les étiquettes dans le graphique\n",
        "for i in range(D.shape[0]):\n",
        " ax.annotate(D.index[i],(points[i,0],points[i,1]),color='black')\n",
        "#afficher le graphique\n",
        "plt.show()\n"
      ],
      "execution_count": null,
      "outputs": [
        {
          "output_type": "display_data",
          "data": {
            "image/png": "[encoded data removed]",
            "text/plain": [
              "<Figure size 432x288 with 1 Axes>"
            ]
          },
          "metadata": {
            "tags": []
          }
        }
      ]
    },
    {
      "cell_type": "code",
      "metadata": {
        "id": "GKnWGCVfD4Yd",
        "colab": {
          "base_uri": "https://localhost:8080/",
          "height": 624
        },
        "outputId": "c1cfa154-0fdf-402b-941a-bda8df6fb06b"
      },
      "source": [
        "#En bonus un k-means par ville\n",
        "#K-means\n",
        "from sklearn.cluster import KMeans\n",
        "km = KMeans(n_clusters=3,random_state=1)\n",
        "#modélisation\n",
        "km.fit(points)\n",
        "\n",
        "#graphique avec les barycentres\n",
        "ax = plt.axes([0,0,2,2])\n",
        "ax.set_aspect(aspect='equal')\n",
        "plt.scatter(points[:,0],points[:,1],color='silver',s=100)\n",
        "plt.scatter(km.cluster_centers_[:,0],km.cluster_centers_[:,1],color='blue',s=150)\n",
        "#ajouter les étiquettes dans le graphique\n",
        "for i in range(D.shape[0]):\n",
        " ax.annotate(D.index[i],(points[i,0],points[i,1]),color='black')\n",
        "plt.show()"
      ],
      "execution_count": null,
      "outputs": [
        {
          "output_type": "display_data",
          "data": {
            "image/png": "[encoded data removed]",
            "text/plain": [
              "<Figure size 432x288 with 1 Axes>"
            ]
          },
          "metadata": {
            "tags": []
          }
        }
      ]
    },
    {
      "cell_type": "code",
      "metadata": {
        "id": "b_yW2wVBFYsz",
        "colab": {
          "base_uri": "https://localhost:8080/",
          "height": 298
        },
        "outputId": "3e223a43-6810-4f8e-c783-efb28aed3e3d"
      },
      "source": [
        "#outil pour le calcul du coefficient silhouette\n",
        "import numpy as np\n",
        "from sklearn.metrics import silhouette_score\n",
        "#balayage des différentes valeurs de K\n",
        "nb=7\n",
        "sil = np.zeros(nb)\n",
        "for K in range(2,nb+2):\n",
        " kms = KMeans(n_clusters=K,random_state=1).fit(points)\n",
        " sil[K-2] = silhouette_score(points,kms.labels_,metric='euclidean')\n",
        "#valeurs des silhouettes\n",
        "print(sil)\n",
        "plt.plot(range(2,nb+2),sil,'--o',color='deepskyblue',linewidth=2,markersize=10)\n",
        "plt.show()"
      ],
      "execution_count": null,
      "outputs": [
        {
          "output_type": "stream",
          "text": [
            "[0.44204651 0.41231509 0.31749699 0.31542969 0.30807999 0.21125285\n",
            " 0.08717381]\n"
          ],
          "name": "stdout"
        },
        {
          "output_type": "display_data",
          "data": {
            "image/png": "[encoded data removed]",
            "text/plain": [
              "<Figure size 432x288 with 1 Axes>"
            ]
          },
          "metadata": {
            "tags": []
          }
        }
      ]
    },
    {
      "cell_type": "code",
      "metadata": {
        "id": "HrjmmjNMQYZl",
        "colab": {
          "base_uri": "https://localhost:8080/",
          "height": 195
        },
        "outputId": "a6a97ff0-d868-4c0e-ceac-4c3db2d4cc58"
      },
      "source": [
        "df.head()"
      ],
      "execution_count": null,
      "outputs": [
        {
          "output_type": "execute_result",
          "data": {
            "text/html": [
              "<div>\n",
              "<style scoped>\n",
              "    .dataframe tbody tr th:only-of-type {\n",
              "        vertical-align: middle;\n",
              "    }\n",
              "\n",
              "    .dataframe tbody tr th {\n",
              "        vertical-align: top;\n",
              "    }\n",
              "\n",
              "    .dataframe thead th {\n",
              "        text-align: right;\n",
              "    }\n",
              "</style>\n",
              "<table border=\"1\" class=\"dataframe\">\n",
              "  <thead>\n",
              "    <tr style=\"text-align: right;\">\n",
              "      <th></th>\n",
              "      <th>iata</th>\n",
              "      <th>airport</th>\n",
              "      <th>city</th>\n",
              "      <th>state</th>\n",
              "      <th>country</th>\n",
              "      <th>lat</th>\n",
              "      <th>long</th>\n",
              "      <th>cnt</th>\n",
              "      <th>text</th>\n",
              "    </tr>\n",
              "  </thead>\n",
              "  <tbody>\n",
              "    <tr>\n",
              "      <th>0</th>\n",
              "      <td>ORD</td>\n",
              "      <td>Chicago O'Hare International</td>\n",
              "      <td>Chicago</td>\n",
              "      <td>IL</td>\n",
              "      <td>USA</td>\n",
              "      <td>41.979595</td>\n",
              "      <td>-87.904464</td>\n",
              "      <td>25129</td>\n",
              "      <td>Chicago O'Hare InternationalChicago, ILArrival...</td>\n",
              "    </tr>\n",
              "    <tr>\n",
              "      <th>1</th>\n",
              "      <td>ATL</td>\n",
              "      <td>William B Hartsfield-Atlanta Intl</td>\n",
              "      <td>Atlanta</td>\n",
              "      <td>GA</td>\n",
              "      <td>USA</td>\n",
              "      <td>33.640444</td>\n",
              "      <td>-84.426944</td>\n",
              "      <td>21925</td>\n",
              "      <td>William B Hartsfield-Atlanta IntlAtlanta, GAAr...</td>\n",
              "    </tr>\n",
              "    <tr>\n",
              "      <th>2</th>\n",
              "      <td>DFW</td>\n",
              "      <td>Dallas-Fort Worth International</td>\n",
              "      <td>Dallas-Fort Worth</td>\n",
              "      <td>TX</td>\n",
              "      <td>USA</td>\n",
              "      <td>32.895951</td>\n",
              "      <td>-97.037200</td>\n",
              "      <td>20662</td>\n",
              "      <td>Dallas-Fort Worth InternationalDallas-Fort Wor...</td>\n",
              "    </tr>\n",
              "    <tr>\n",
              "      <th>3</th>\n",
              "      <td>PHX</td>\n",
              "      <td>Phoenix Sky Harbor International</td>\n",
              "      <td>Phoenix</td>\n",
              "      <td>AZ</td>\n",
              "      <td>USA</td>\n",
              "      <td>33.434167</td>\n",
              "      <td>-112.008056</td>\n",
              "      <td>17290</td>\n",
              "      <td>Phoenix Sky Harbor InternationalPhoenix, AZArr...</td>\n",
              "    </tr>\n",
              "    <tr>\n",
              "      <th>4</th>\n",
              "      <td>DEN</td>\n",
              "      <td>Denver Intl</td>\n",
              "      <td>Denver</td>\n",
              "      <td>CO</td>\n",
              "      <td>USA</td>\n",
              "      <td>39.858408</td>\n",
              "      <td>-104.667002</td>\n",
              "      <td>13781</td>\n",
              "      <td>Denver IntlDenver, COArrivals: 13781</td>\n",
              "    </tr>\n",
              "  </tbody>\n",
              "</table>\n",
              "</div>"
            ],
            "text/plain": [
              "  iata  ...                                               text\n",
              "0  ORD  ...  Chicago O'Hare InternationalChicago, ILArrival...\n",
              "1  ATL  ...  William B Hartsfield-Atlanta IntlAtlanta, GAAr...\n",
              "2  DFW  ...  Dallas-Fort Worth InternationalDallas-Fort Wor...\n",
              "3  PHX  ...  Phoenix Sky Harbor InternationalPhoenix, AZArr...\n",
              "4  DEN  ...               Denver IntlDenver, COArrivals: 13781\n",
              "\n",
              "[5 rows x 9 columns]"
            ]
          },
          "metadata": {
            "tags": []
          },
          "execution_count": 2
        }
      ]
    },
    {
      "cell_type": "code",
      "metadata": {
        "id": "uctq3BWFjBN3",
        "colab": {
          "base_uri": "https://localhost:8080/",
          "height": 542
        },
        "outputId": "e5c57ca8-2515-4f39-e593-e21c09acc63b"
      },
      "source": [
        "import plotly.graph_objects as go\n",
        "\n",
        "import pandas as pd\n",
        "\n",
        "fig = go.Figure(data=go.Scattergeo(\n",
        "        lon = table_villes['LONG'],\n",
        "        lat = table_villes['LAT'],\n",
        "        text = table_villes.index,\n",
        "        mode = 'markers',\n",
        "        marker_color = table_villes['LAT'],\n",
        "        ))\n",
        "\n",
        "fig.update_layout(\n",
        "        title = 'Villes françaises<br>(Pour faire un essai)',\n",
        "        geo_scope='europe',\n",
        "    )\n",
        "fig.show()"
      ],
      "execution_count": null,
      "outputs": [
        {
          "output_type": "display_data",
          "data": {
            "text/html": [
              "<html>\n",
              "<head><meta charset=\"utf-8\" /></head>\n",
              "<body>\n",
              "    <div>\n",
              "            <script src=\"https://cdnjs.cloudflare.com/ajax/libs/mathjax/2.7.5/MathJax.js?config=TeX-AMS-MML_SVG\"></script><script type=\"text/javascript\">if (window.MathJax) {MathJax.Hub.Config({SVG: {font: \"STIX-Web\"}});}</script>\n",
              "                <script type=\"text/javascript\">window.PlotlyConfig = {MathJaxConfig: 'local'};</script>\n",
              "        <script src=\"https://cdn.plot.ly/plotly-latest.min.js\"></script>    \n",
              "            <div id=\"c4ef40db-79a8-4c1f-8b16-42b34fb836f3\" class=\"plotly-graph-div\" style=\"height:525px; width:100%;\"></div>\n",
              "            <script type=\"text/javascript\">\n",
              "                \n",
              "                    window.PLOTLYENV=window.PLOTLYENV || {};\n",
              "                    \n",
              "                if (document.getElementById(\"c4ef40db-79a8-4c1f-8b16-42b34fb836f3\")) {\n",
              "                    Plotly.newPlot(\n",
              "                        'c4ef40db-79a8-4c1f-8b16-42b34fb836f3',\n",
              "                        [{\"lat\": [51.0347708, 48.3905283, 48.8566969, 48.584614, 45.7578137, 43.6044622, 43.2961743, 43.7009358, 42.6985304], \"lon\": [2.3772525, -4.4860088, 2.3514616, 7.7507127, 4.8320114, 1.4442469, 5.3699525, 7.2683912, 2.8953121], \"marker\": {\"color\": [51.0347708, 48.3905283, 48.8566969, 48.584614, 45.7578137, 43.6044622, 43.2961743, 43.7009358, 42.6985304]}, \"mode\": \"markers\", \"text\": [\"Dunkerque\", \"Brest\", \"Paris\", \"Strasbourg\", \"Lyon\", \"Toulouse\", \"Marseille\", \"Nice\", \"Perpignan\"], \"type\": \"scattergeo\"}],\n",
              "                        {\"geo\": {\"scope\": \"europe\"}, \"template\": {\"data\": {\"bar\": [{\"error_x\": {\"color\": \"#2a3f5f\"}, \"error_y\": {\"color\": \"#2a3f5f\"}, \"marker\": {\"line\": {\"color\": \"#E5ECF6\", \"width\": 0.5}}, \"type\": \"bar\"}], \"barpolar\": [{\"marker\": {\"line\": {\"color\": \"#E5ECF6\", \"width\": 0.5}}, \"type\": \"barpolar\"}], \"carpet\": [{\"aaxis\": {\"endlinecolor\": \"#2a3f5f\", \"gridcolor\": \"white\", \"linecolor\": \"white\", \"minorgridcolor\": \"white\", \"startlinecolor\": \"#2a3f5f\"}, \"baxis\": {\"endlinecolor\": \"#2a3f5f\", \"gridcolor\": \"white\", \"linecolor\": \"white\", \"minorgridcolor\": \"white\", \"startlinecolor\": \"#2a3f5f\"}, \"type\": \"carpet\"}], \"choropleth\": [{\"colorbar\": {\"outlinewidth\": 0, \"ticks\": \"\"}, \"type\": \"choropleth\"}], \"contour\": [{\"colorbar\": {\"outlinewidth\": 0, \"ticks\": \"\"}, \"colorscale\": [[0.0, \"#0d0887\"], [0.1111111111111111, \"#46039f\"], [0.2222222222222222, \"#7201a8\"], [0.3333333333333333, \"#9c179e\"], [0.4444444444444444, \"#bd3786\"], [0.5555555555555556, \"#d8576b\"], [0.6666666666666666, \"#ed7953\"], [0.7777777777777778, \"#fb9f3a\"], [0.8888888888888888, \"#fdca26\"], [1.0, \"#f0f921\"]], \"type\": \"contour\"}], \"contourcarpet\": [{\"colorbar\": {\"outlinewidth\": 0, \"ticks\": \"\"}, \"type\": \"contourcarpet\"}], \"heatmap\": [{\"colorbar\": {\"outlinewidth\": 0, \"ticks\": \"\"}, \"colorscale\": [[0.0, \"#0d0887\"], [0.1111111111111111, \"#46039f\"], [0.2222222222222222, \"#7201a8\"], [0.3333333333333333, \"#9c179e\"], [0.4444444444444444, \"#bd3786\"], [0.5555555555555556, \"#d8576b\"], [0.6666666666666666, \"#ed7953\"], [0.7777777777777778, \"#fb9f3a\"], [0.8888888888888888, \"#fdca26\"], [1.0, \"#f0f921\"]], \"type\": \"heatmap\"}], \"heatmapgl\": [{\"colorbar\": {\"outlinewidth\": 0, \"ticks\": \"\"}, \"colorscale\": [[0.0, \"#0d0887\"], [0.1111111111111111, \"#46039f\"], [0.2222222222222222, \"#7201a8\"], [0.3333333333333333, \"#9c179e\"], [0.4444444444444444, \"#bd3786\"], [0.5555555555555556, \"#d8576b\"], [0.6666666666666666, \"#ed7953\"], [0.7777777777777778, \"#fb9f3a\"], [0.8888888888888888, \"#fdca26\"], [1.0, \"#f0f921\"]], \"type\": \"heatmapgl\"}], \"histogram\": [{\"marker\": {\"colorbar\": {\"outlinewidth\": 0, \"ticks\": \"\"}}, \"type\": \"histogram\"}], \"histogram2d\": [{\"colorbar\": {\"outlinewidth\": 0, \"ticks\": \"\"}, \"colorscale\": [[0.0, \"#0d0887\"], [0.1111111111111111, \"#46039f\"], [0.2222222222222222, \"#7201a8\"], [0.3333333333333333, \"#9c179e\"], [0.4444444444444444, \"#bd3786\"], [0.5555555555555556, \"#d8576b\"], [0.6666666666666666, \"#ed7953\"], [0.7777777777777778, \"#fb9f3a\"], [0.8888888888888888, \"#fdca26\"], [1.0, \"#f0f921\"]], \"type\": \"histogram2d\"}], \"histogram2dcontour\": [{\"colorbar\": {\"outlinewidth\": 0, \"ticks\": \"\"}, \"colorscale\": [[0.0, \"#0d0887\"], [0.1111111111111111, \"#46039f\"], [0.2222222222222222, \"#7201a8\"], [0.3333333333333333, \"#9c179e\"], [0.4444444444444444, \"#bd3786\"], [0.5555555555555556, \"#d8576b\"], [0.6666666666666666, \"#ed7953\"], [0.7777777777777778, \"#fb9f3a\"], [0.8888888888888888, \"#fdca26\"], [1.0, \"#f0f921\"]], \"type\": \"histogram2dcontour\"}], \"mesh3d\": [{\"colorbar\": {\"outlinewidth\": 0, \"ticks\": \"\"}, \"type\": \"mesh3d\"}], \"parcoords\": [{\"line\": {\"colorbar\": {\"outlinewidth\": 0, \"ticks\": \"\"}}, \"type\": \"parcoords\"}], \"pie\": [{\"automargin\": true, \"type\": \"pie\"}], \"scatter\": [{\"marker\": {\"colorbar\": {\"outlinewidth\": 0, \"ticks\": \"\"}}, \"type\": \"scatter\"}], \"scatter3d\": [{\"line\": {\"colorbar\": {\"outlinewidth\": 0, \"ticks\": \"\"}}, \"marker\": {\"colorbar\": {\"outlinewidth\": 0, \"ticks\": \"\"}}, \"type\": \"scatter3d\"}], \"scattercarpet\": [{\"marker\": {\"colorbar\": {\"outlinewidth\": 0, \"ticks\": \"\"}}, \"type\": \"scattercarpet\"}], \"scattergeo\": [{\"marker\": {\"colorbar\": {\"outlinewidth\": 0, \"ticks\": \"\"}}, \"type\": \"scattergeo\"}], \"scattergl\": [{\"marker\": {\"colorbar\": {\"outlinewidth\": 0, \"ticks\": \"\"}}, \"type\": \"scattergl\"}], \"scattermapbox\": [{\"marker\": {\"colorbar\": {\"outlinewidth\": 0, \"ticks\": \"\"}}, \"type\": \"scattermapbox\"}], \"scatterpolar\": [{\"marker\": {\"colorbar\": {\"outlinewidth\": 0, \"ticks\": \"\"}}, \"type\": \"scatterpolar\"}], \"scatterpolargl\": [{\"marker\": {\"colorbar\": {\"outlinewidth\": 0, \"ticks\": \"\"}}, \"type\": \"scatterpolargl\"}], \"scatterternary\": [{\"marker\": {\"colorbar\": {\"outlinewidth\": 0, \"ticks\": \"\"}}, \"type\": \"scatterternary\"}], \"surface\": [{\"colorbar\": {\"outlinewidth\": 0, \"ticks\": \"\"}, \"colorscale\": [[0.0, \"#0d0887\"], [0.1111111111111111, \"#46039f\"], [0.2222222222222222, \"#7201a8\"], [0.3333333333333333, \"#9c179e\"], [0.4444444444444444, \"#bd3786\"], [0.5555555555555556, \"#d8576b\"], [0.6666666666666666, \"#ed7953\"], [0.7777777777777778, \"#fb9f3a\"], [0.8888888888888888, \"#fdca26\"], [1.0, \"#f0f921\"]], \"type\": \"surface\"}], \"table\": [{\"cells\": {\"fill\": {\"color\": \"#EBF0F8\"}, \"line\": {\"color\": \"white\"}}, \"header\": {\"fill\": {\"color\": \"#C8D4E3\"}, \"line\": {\"color\": \"white\"}}, \"type\": \"table\"}]}, \"layout\": {\"annotationdefaults\": {\"arrowcolor\": \"#2a3f5f\", \"arrowhead\": 0, \"arrowwidth\": 1}, \"coloraxis\": {\"colorbar\": {\"outlinewidth\": 0, \"ticks\": \"\"}}, \"colorscale\": {\"diverging\": [[0, \"#8e0152\"], [0.1, \"#c51b7d\"], [0.2, \"#de77ae\"], [0.3, \"#f1b6da\"], [0.4, \"#fde0ef\"], [0.5, \"#f7f7f7\"], [0.6, \"#e6f5d0\"], [0.7, \"#b8e186\"], [0.8, \"#7fbc41\"], [0.9, \"#4d9221\"], [1, \"#276419\"]], \"sequential\": [[0.0, \"#0d0887\"], [0.1111111111111111, \"#46039f\"], [0.2222222222222222, \"#7201a8\"], [0.3333333333333333, \"#9c179e\"], [0.4444444444444444, \"#bd3786\"], [0.5555555555555556, \"#d8576b\"], [0.6666666666666666, \"#ed7953\"], [0.7777777777777778, \"#fb9f3a\"], [0.8888888888888888, \"#fdca26\"], [1.0, \"#f0f921\"]], \"sequentialminus\": [[0.0, \"#0d0887\"], [0.1111111111111111, \"#46039f\"], [0.2222222222222222, \"#7201a8\"], [0.3333333333333333, \"#9c179e\"], [0.4444444444444444, \"#bd3786\"], [0.5555555555555556, \"#d8576b\"], [0.6666666666666666, \"#ed7953\"], [0.7777777777777778, \"#fb9f3a\"], [0.8888888888888888, \"#fdca26\"], [1.0, \"#f0f921\"]]}, \"colorway\": [\"#636efa\", \"#EF553B\", \"#00cc96\", \"#ab63fa\", \"#FFA15A\", \"#19d3f3\", \"#FF6692\", \"#B6E880\", \"#FF97FF\", \"#FECB52\"], \"font\": {\"color\": \"#2a3f5f\"}, \"geo\": {\"bgcolor\": \"white\", \"lakecolor\": \"white\", \"landcolor\": \"#E5ECF6\", \"showlakes\": true, \"showland\": true, \"subunitcolor\": \"white\"}, \"hoverlabel\": {\"align\": \"left\"}, \"hovermode\": \"closest\", \"mapbox\": {\"style\": \"light\"}, \"paper_bgcolor\": \"white\", \"plot_bgcolor\": \"#E5ECF6\", \"polar\": {\"angularaxis\": {\"gridcolor\": \"white\", \"linecolor\": \"white\", \"ticks\": \"\"}, \"bgcolor\": \"#E5ECF6\", \"radialaxis\": {\"gridcolor\": \"white\", \"linecolor\": \"white\", \"ticks\": \"\"}}, \"scene\": {\"xaxis\": {\"backgroundcolor\": \"#E5ECF6\", \"gridcolor\": \"white\", \"gridwidth\": 2, \"linecolor\": \"white\", \"showbackground\": true, \"ticks\": \"\", \"zerolinecolor\": \"white\"}, \"yaxis\": {\"backgroundcolor\": \"#E5ECF6\", \"gridcolor\": \"white\", \"gridwidth\": 2, \"linecolor\": \"white\", \"showbackground\": true, \"ticks\": \"\", \"zerolinecolor\": \"white\"}, \"zaxis\": {\"backgroundcolor\": \"#E5ECF6\", \"gridcolor\": \"white\", \"gridwidth\": 2, \"linecolor\": \"white\", \"showbackground\": true, \"ticks\": \"\", \"zerolinecolor\": \"white\"}}, \"shapedefaults\": {\"line\": {\"color\": \"#2a3f5f\"}}, \"ternary\": {\"aaxis\": {\"gridcolor\": \"white\", \"linecolor\": \"white\", \"ticks\": \"\"}, \"baxis\": {\"gridcolor\": \"white\", \"linecolor\": \"white\", \"ticks\": \"\"}, \"bgcolor\": \"#E5ECF6\", \"caxis\": {\"gridcolor\": \"white\", \"linecolor\": \"white\", \"ticks\": \"\"}}, \"title\": {\"x\": 0.05}, \"xaxis\": {\"automargin\": true, \"gridcolor\": \"white\", \"linecolor\": \"white\", \"ticks\": \"\", \"title\": {\"standoff\": 15}, \"zerolinecolor\": \"white\", \"zerolinewidth\": 2}, \"yaxis\": {\"automargin\": true, \"gridcolor\": \"white\", \"linecolor\": \"white\", \"ticks\": \"\", \"title\": {\"standoff\": 15}, \"zerolinecolor\": \"white\", \"zerolinewidth\": 2}}}, \"title\": {\"text\": \"Villes fran\\u00e7aises<br>(Pour faire un essai)\"}},\n",
              "                        {\"responsive\": true}\n",
              "                    ).then(function(){\n",
              "                            \n",
              "var gd = document.getElementById('c4ef40db-79a8-4c1f-8b16-42b34fb836f3');\n",
              "var x = new MutationObserver(function (mutations, observer) {{\n",
              "        var display = window.getComputedStyle(gd).display;\n",
              "        if (!display || display === 'none') {{\n",
              "            console.log([gd, 'removed!']);\n",
              "            Plotly.purge(gd);\n",
              "            observer.disconnect();\n",
              "        }}\n",
              "}});\n",
              "\n",
              "// Listen for the removal of the full notebook cells\n",
              "var notebookContainer = gd.closest('#notebook-container');\n",
              "if (notebookContainer) {{\n",
              "    x.observe(notebookContainer, {childList: true});\n",
              "}}\n",
              "\n",
              "// Listen for the clearing of the current output cell\n",
              "var outputEl = gd.closest('.output');\n",
              "if (outputEl) {{\n",
              "    x.observe(outputEl, {childList: true});\n",
              "}}\n",
              "\n",
              "                        })\n",
              "                };\n",
              "                \n",
              "            </script>\n",
              "        </div>\n",
              "</body>\n",
              "</html>"
            ]
          },
          "metadata": {
            "tags": []
          }
        }
      ]
    }
  ]
}