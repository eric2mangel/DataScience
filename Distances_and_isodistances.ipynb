{
  "cells": [
    {
      "cell_type": "markdown",
      "metadata": {
        "id": "_O3FIdGL5paD"
      },
      "source": [
        "# With some French towns"
      ]
    },
    {
      "cell_type": "code",
      "execution_count": 1,
      "metadata": {
        "colab": {
          "base_uri": "https://localhost:8080/",
          "height": 70
        },
        "id": "pQG15KFzAjts",
        "outputId": "944fab2e-05fb-46a7-ad7a-02968c4afba0"
      },
      "outputs": [],
      "source": [
        "from geopy.geocoders import Nominatim\n",
        "geolocator = Nominatim(user_agent=\"eric2mangel@gmail.com\")\n"
      ]
    },
    {
      "cell_type": "code",
      "execution_count": 2,
      "metadata": {
        "colab": {
          "base_uri": "https://localhost:8080/",
          "height": 168
        },
        "id": "ynzxv7n5yvHa",
        "outputId": "88455aa4-3f70-4b46-8b27-a9ba11b8ce49"
      },
      "outputs": [
        {
          "data": {
            "text/plain": [
              "[(51.0347708, 2.3772525),\n",
              " (48.3905283, -4.4860088),\n",
              " (48.8588897, 2.3200410217200766),\n",
              " (48.584614, 7.7507127),\n",
              " (45.7578137, 4.8320114),\n",
              " (43.6044622, 1.4442469),\n",
              " (43.2961743, 5.3699525),\n",
              " (43.7009358, 7.2683912),\n",
              " (42.6985304, 2.8953121)]"
            ]
          },
          "execution_count": 2,
          "metadata": {},
          "output_type": "execute_result"
        }
      ],
      "source": [
        "import pandas as pd\n",
        "villes = [\"Dunkerque\", \"Brest\", \"Paris\", \"Strasbourg\", \"Lyon\", \"Toulouse\",\n",
        "          \"Marseille\", \"Nice\", \"Perpignan\"]\n",
        "\n",
        "latlong = []\n",
        "\n",
        "for i in villes:\n",
        "    # Get latitude and longitude\n",
        "    loc = geolocator.geocode(i+',' + \"France\")\n",
        "    latlong.append((loc.latitude, loc.longitude))\n",
        "\n",
        "latlong\n"
      ]
    },
    {
      "cell_type": "code",
      "execution_count": 3,
      "metadata": {
        "id": "AnzuDijbRxMh"
      },
      "outputs": [],
      "source": [
        "table_villes = pd.DataFrame(index=villes, columns=['LAT', 'LONG'],\n",
        "                            data=latlong)"
      ]
    },
    {
      "cell_type": "code",
      "execution_count": 4,
      "metadata": {
        "colab": {
          "base_uri": "https://localhost:8080/",
          "height": 314
        },
        "id": "uaxGpNjDSKVp",
        "outputId": "cc914fcf-cd51-4458-f6ba-18c52439c4f9"
      },
      "outputs": [
        {
          "data": {
            "text/html": [
              "<div>\n",
              "<style scoped>\n",
              "    .dataframe tbody tr th:only-of-type {\n",
              "        vertical-align: middle;\n",
              "    }\n",
              "\n",
              "    .dataframe tbody tr th {\n",
              "        vertical-align: top;\n",
              "    }\n",
              "\n",
              "    .dataframe thead th {\n",
              "        text-align: right;\n",
              "    }\n",
              "</style>\n",
              "<table border=\"1\" class=\"dataframe\">\n",
              "  <thead>\n",
              "    <tr style=\"text-align: right;\">\n",
              "      <th></th>\n",
              "      <th>LAT</th>\n",
              "      <th>LONG</th>\n",
              "    </tr>\n",
              "  </thead>\n",
              "  <tbody>\n",
              "    <tr>\n",
              "      <th>Dunkerque</th>\n",
              "      <td>51.034771</td>\n",
              "      <td>2.377252</td>\n",
              "    </tr>\n",
              "    <tr>\n",
              "      <th>Brest</th>\n",
              "      <td>48.390528</td>\n",
              "      <td>-4.486009</td>\n",
              "    </tr>\n",
              "    <tr>\n",
              "      <th>Paris</th>\n",
              "      <td>48.858890</td>\n",
              "      <td>2.320041</td>\n",
              "    </tr>\n",
              "    <tr>\n",
              "      <th>Strasbourg</th>\n",
              "      <td>48.584614</td>\n",
              "      <td>7.750713</td>\n",
              "    </tr>\n",
              "    <tr>\n",
              "      <th>Lyon</th>\n",
              "      <td>45.757814</td>\n",
              "      <td>4.832011</td>\n",
              "    </tr>\n",
              "  </tbody>\n",
              "</table>\n",
              "</div>"
            ],
            "text/plain": [
              "                  LAT      LONG\n",
              "Dunkerque   51.034771  2.377252\n",
              "Brest       48.390528 -4.486009\n",
              "Paris       48.858890  2.320041\n",
              "Strasbourg  48.584614  7.750713\n",
              "Lyon        45.757814  4.832011"
            ]
          },
          "execution_count": 4,
          "metadata": {},
          "output_type": "execute_result"
        }
      ],
      "source": [
        "table_villes.head()"
      ]
    },
    {
      "cell_type": "code",
      "execution_count": 5,
      "metadata": {
        "id": "XlJI2ispAX81"
      },
      "outputs": [],
      "source": [
        "distances = pd.DataFrame(columns=villes,index=villes)"
      ]
    },
    {
      "cell_type": "code",
      "execution_count": 6,
      "metadata": {
        "id": "7Khj9DFMAvmh"
      },
      "outputs": [],
      "source": [
        "from geopy.distance import geodesic \n",
        "for nr,row in enumerate(villes):\n",
        "    for nc,col in enumerate(villes):\n",
        "        distances.loc[row,col] = geodesic(latlong[nr], latlong[nc]).km"
      ]
    },
    {
      "cell_type": "code",
      "execution_count": 7,
      "metadata": {
        "colab": {
          "base_uri": "https://localhost:8080/",
          "height": 314
        },
        "id": "8hHJvIUd6fn-",
        "outputId": "4b20d16f-b5ba-47fd-b692-102f853ebd3a"
      },
      "outputs": [
        {
          "data": {
            "text/html": [
              "<div>\n",
              "<style scoped>\n",
              "    .dataframe tbody tr th:only-of-type {\n",
              "        vertical-align: middle;\n",
              "    }\n",
              "\n",
              "    .dataframe tbody tr th {\n",
              "        vertical-align: top;\n",
              "    }\n",
              "\n",
              "    .dataframe thead th {\n",
              "        text-align: right;\n",
              "    }\n",
              "</style>\n",
              "<table border=\"1\" class=\"dataframe\">\n",
              "  <thead>\n",
              "    <tr style=\"text-align: right;\">\n",
              "      <th></th>\n",
              "      <th>Dunkerque</th>\n",
              "      <th>Brest</th>\n",
              "      <th>Paris</th>\n",
              "      <th>Strasbourg</th>\n",
              "      <th>Lyon</th>\n",
              "      <th>Toulouse</th>\n",
              "      <th>Marseille</th>\n",
              "      <th>Nice</th>\n",
              "      <th>Perpignan</th>\n",
              "    </tr>\n",
              "  </thead>\n",
              "  <tbody>\n",
              "    <tr>\n",
              "      <th>Dunkerque</th>\n",
              "      <td>0</td>\n",
              "      <td>575.429</td>\n",
              "      <td>242.054</td>\n",
              "      <td>472.945</td>\n",
              "      <td>614.205</td>\n",
              "      <td>829.066</td>\n",
              "      <td>889.549</td>\n",
              "      <td>894.654</td>\n",
              "      <td>927.559</td>\n",
              "    </tr>\n",
              "    <tr>\n",
              "      <th>Brest</th>\n",
              "      <td>575.429</td>\n",
              "      <td>0</td>\n",
              "      <td>504.266</td>\n",
              "      <td>903.822</td>\n",
              "      <td>765.2</td>\n",
              "      <td>702.446</td>\n",
              "      <td>951.019</td>\n",
              "      <td>1046.88</td>\n",
              "      <td>855.073</td>\n",
              "    </tr>\n",
              "    <tr>\n",
              "      <th>Paris</th>\n",
              "      <td>242.054</td>\n",
              "      <td>504.266</td>\n",
              "      <td>0</td>\n",
              "      <td>400.657</td>\n",
              "      <td>393.576</td>\n",
              "      <td>587.943</td>\n",
              "      <td>661.648</td>\n",
              "      <td>688.259</td>\n",
              "      <td>686.16</td>\n",
              "    </tr>\n",
              "    <tr>\n",
              "      <th>Strasbourg</th>\n",
              "      <td>472.945</td>\n",
              "      <td>903.822</td>\n",
              "      <td>400.657</td>\n",
              "      <td>0</td>\n",
              "      <td>384.286</td>\n",
              "      <td>737.229</td>\n",
              "      <td>616.037</td>\n",
              "      <td>544.115</td>\n",
              "      <td>755.452</td>\n",
              "    </tr>\n",
              "    <tr>\n",
              "      <th>Lyon</th>\n",
              "      <td>614.205</td>\n",
              "      <td>765.2</td>\n",
              "      <td>393.576</td>\n",
              "      <td>384.286</td>\n",
              "      <td>0</td>\n",
              "      <td>359.665</td>\n",
              "      <td>276.864</td>\n",
              "      <td>299.128</td>\n",
              "      <td>373.468</td>\n",
              "    </tr>\n",
              "    <tr>\n",
              "      <th>Toulouse</th>\n",
              "      <td>829.066</td>\n",
              "      <td>702.446</td>\n",
              "      <td>587.943</td>\n",
              "      <td>737.229</td>\n",
              "      <td>359.665</td>\n",
              "      <td>0</td>\n",
              "      <td>319.568</td>\n",
              "      <td>469.874</td>\n",
              "      <td>155.11</td>\n",
              "    </tr>\n",
              "    <tr>\n",
              "      <th>Marseille</th>\n",
              "      <td>889.549</td>\n",
              "      <td>951.019</td>\n",
              "      <td>661.648</td>\n",
              "      <td>616.037</td>\n",
              "      <td>276.864</td>\n",
              "      <td>319.568</td>\n",
              "      <td>0</td>\n",
              "      <td>159.989</td>\n",
              "      <td>212.425</td>\n",
              "    </tr>\n",
              "    <tr>\n",
              "      <th>Nice</th>\n",
              "      <td>894.654</td>\n",
              "      <td>1046.88</td>\n",
              "      <td>688.259</td>\n",
              "      <td>544.115</td>\n",
              "      <td>299.128</td>\n",
              "      <td>469.874</td>\n",
              "      <td>159.989</td>\n",
              "      <td>0</td>\n",
              "      <td>372.412</td>\n",
              "    </tr>\n",
              "    <tr>\n",
              "      <th>Perpignan</th>\n",
              "      <td>927.559</td>\n",
              "      <td>855.073</td>\n",
              "      <td>686.16</td>\n",
              "      <td>755.452</td>\n",
              "      <td>373.468</td>\n",
              "      <td>155.11</td>\n",
              "      <td>212.425</td>\n",
              "      <td>372.412</td>\n",
              "      <td>0</td>\n",
              "    </tr>\n",
              "  </tbody>\n",
              "</table>\n",
              "</div>"
            ],
            "text/plain": [
              "           Dunkerque    Brest    Paris Strasbourg     Lyon Toulouse Marseille  \\\n",
              "Dunkerque          0  575.429  242.054    472.945  614.205  829.066   889.549   \n",
              "Brest        575.429        0  504.266    903.822    765.2  702.446   951.019   \n",
              "Paris        242.054  504.266        0    400.657  393.576  587.943   661.648   \n",
              "Strasbourg   472.945  903.822  400.657          0  384.286  737.229   616.037   \n",
              "Lyon         614.205    765.2  393.576    384.286        0  359.665   276.864   \n",
              "Toulouse     829.066  702.446  587.943    737.229  359.665        0   319.568   \n",
              "Marseille    889.549  951.019  661.648    616.037  276.864  319.568         0   \n",
              "Nice         894.654  1046.88  688.259    544.115  299.128  469.874   159.989   \n",
              "Perpignan    927.559  855.073   686.16    755.452  373.468   155.11   212.425   \n",
              "\n",
              "               Nice Perpignan  \n",
              "Dunkerque   894.654   927.559  \n",
              "Brest       1046.88   855.073  \n",
              "Paris       688.259    686.16  \n",
              "Strasbourg  544.115   755.452  \n",
              "Lyon        299.128   373.468  \n",
              "Toulouse    469.874    155.11  \n",
              "Marseille   159.989   212.425  \n",
              "Nice              0   372.412  \n",
              "Perpignan   372.412         0  "
            ]
          },
          "execution_count": 7,
          "metadata": {},
          "output_type": "execute_result"
        }
      ],
      "source": [
        "distances"
      ]
    },
    {
      "cell_type": "code",
      "execution_count": 8,
      "metadata": {
        "colab": {
          "base_uri": "https://localhost:8080/",
          "height": 168
        },
        "id": "G5WdwKfUDhiC",
        "outputId": "9b2c1202-e36d-4859-f6fc-f7223469e00c"
      },
      "outputs": [
        {
          "name": "stdout",
          "output_type": "stream",
          "text": [
            "[[-110.82184579  523.34939751]\n",
            " [ 458.29473908  443.2960764 ]\n",
            " [ -24.38272563  297.44763264]\n",
            " [-394.17774586  143.97904485]\n",
            " [ -89.76857114  -90.59445234]\n",
            " [ 243.47105666 -225.99616651]\n",
            " [ -45.01566692 -363.76269056]\n",
            " [-205.07438532 -366.4540785 ]\n",
            " [ 167.47514492 -361.26476349]]\n"
          ]
        }
      ],
      "source": [
        "from sklearn import manifold\n",
        "# MDS\n",
        "mds = manifold.MDS(n_components=2, random_state=1, dissimilarity=\"precomputed\")\n",
        "mds.fit(distances)\n",
        "D = distances.copy()\n",
        "# coordinates of the points in the plane since (n_components = 2)\n",
        "points = mds.embedding_\n",
        "print(points)\n"
      ]
    },
    {
      "cell_type": "code",
      "execution_count": 9,
      "metadata": {
        "colab": {
          "base_uri": "https://localhost:8080/",
          "height": 624
        },
        "id": "xVoKGZQBDURX",
        "outputId": "9f537b22-c70c-411f-bfb5-fede0650aa25"
      },
      "outputs": [
        {
          "data": {
            "image/png": "[encoded data removed]",
            "text/plain": [
              "<Figure size 432x288 with 1 Axes>"
            ]
          },
          "metadata": {
            "needs_background": "light"
          },
          "output_type": "display_data"
        }
      ],
      "source": [
        "import matplotlib.pyplot as plt\n",
        "ax = plt.axes([0, 0, 2, 2])\n",
        "ax.set_aspect(aspect='equal')\n",
        "plt.scatter(points[:, 0], points[:, 1], color='silver', s=500)\n",
        "for i in range(D.shape[0]):\n",
        "    ax.annotate(D.index[i], (points[i, 0], points[i, 1]), color='black')\n",
        "plt.show()\n"
      ]
    },
    {
      "cell_type": "code",
      "execution_count": 10,
      "metadata": {
        "colab": {
          "base_uri": "https://localhost:8080/",
          "height": 624
        },
        "id": "GKnWGCVfD4Yd",
        "outputId": "c1cfa154-0fdf-402b-941a-bda8df6fb06b"
      },
      "outputs": [
        {
          "data": {
            "image/png": "[encoded data removed]",
            "text/plain": [
              "<Figure size 432x288 with 1 Axes>"
            ]
          },
          "metadata": {
            "needs_background": "light"
          },
          "output_type": "display_data"
        }
      ],
      "source": [
        "#En bonus un k-means par ville\n",
        "#K-means\n",
        "from sklearn.cluster import KMeans\n",
        "km = KMeans(n_clusters=3,random_state=1)\n",
        "#modélisation\n",
        "km.fit(points)\n",
        "\n",
        "#graphique avec les barycentres\n",
        "ax = plt.axes([0,0,2,2])\n",
        "ax.set_aspect(aspect='equal')\n",
        "plt.scatter(points[:,0],points[:,1],color='silver',s=100)\n",
        "plt.scatter(km.cluster_centers_[:,0],km.cluster_centers_[:,1],color='blue',s=150)\n",
        "#ajouter les étiquettes dans le graphique\n",
        "for i in range(D.shape[0]):\n",
        " ax.annotate(D.index[i],(points[i,0],points[i,1]),color='black')\n",
        "plt.show()"
      ]
    },
    {
      "cell_type": "code",
      "execution_count": 11,
      "metadata": {
        "colab": {
          "base_uri": "https://localhost:8080/",
          "height": 298
        },
        "id": "b_yW2wVBFYsz",
        "outputId": "3e223a43-6810-4f8e-c783-efb28aed3e3d"
      },
      "outputs": [
        {
          "name": "stdout",
          "output_type": "stream",
          "text": [
            "[0.44219449 0.4117198  0.31672421 0.31592695 0.30842561 0.21125527\n",
            " 0.08717297]\n"
          ]
        },
        {
          "data": {
            "image/png": "[encoded data removed]",
            "text/plain": [
              "<Figure size 432x288 with 1 Axes>"
            ]
          },
          "metadata": {
            "needs_background": "light"
          },
          "output_type": "display_data"
        }
      ],
      "source": [
        "import numpy as np\n",
        "from sklearn.metrics import silhouette_score\n",
        "nb = 7\n",
        "sil = np.zeros(nb)\n",
        "for K in range(2, nb+2):\n",
        "    kms = KMeans(n_clusters=K, random_state=1).fit(points)\n",
        "    sil[K-2] = silhouette_score(points, kms.labels_, metric='euclidean')\n",
        "# Silhouette score\n",
        "print(sil)\n",
        "plt.plot(range(2, nb+2), sil, '--o', color='deepskyblue',\n",
        "         linewidth=2, markersize=10)\n",
        "plt.title('Silhouette score')\n",
        "plt.show()"
      ]
    },
    {
      "cell_type": "code",
      "execution_count": 15,
      "metadata": {
        "colab": {
          "base_uri": "https://localhost:8080/",
          "height": 542
        },
        "id": "uctq3BWFjBN3",
        "outputId": "e5c57ca8-2515-4f39-e593-e21c09acc63b"
      },
      "outputs": [
        {
          "data": {
            "application/vnd.plotly.v1+json": {
              "config": {
                "plotlyServerURL": "https://plot.ly"
              },
              "data": [
                {
                  "lat": [
                    51.0347708,
                    48.3905283,
                    48.8588897,
                    48.584614,
                    45.7578137,
                    43.6044622,
                    43.2961743,
                    43.7009358,
                    42.6985304
                  ],
                  "lon": [
                    2.3772525,
                    -4.4860088,
                    2.3200410217200766,
                    7.7507127,
                    4.8320114,
                    1.4442469,
                    5.3699525,
                    7.2683912,
                    2.8953121
                  ],
                  "marker": {
                    "color": [
                      51.0347708,
                      48.3905283,
                      48.8588897,
                      48.584614,
                      45.7578137,
                      43.6044622,
                      43.2961743,
                      43.7009358,
                      42.6985304
                    ]
                  },
                  "mode": "markers",
                  "text": [
                    "Dunkerque",
                    "Brest",
                    "Paris",
                    "Strasbourg",
                    "Lyon",
                    "Toulouse",
                    "Marseille",
                    "Nice",
                    "Perpignan"
                  ],
                  "type": "scattergeo"
                }
              ],
              "layout": {
                "geo": {
                  "scope": "europe"
                },
                "template": {
                  "data": {
                    "bar": [
                      {
                        "error_x": {
                          "color": "#2a3f5f"
                        },
                        "error_y": {
                          "color": "#2a3f5f"
                        },
                        "marker": {
                          "line": {
                            "color": "#E5ECF6",
                            "width": 0.5
                          },
                          "pattern": {
                            "fillmode": "overlay",
                            "size": 10,
                            "solidity": 0.2
                          }
                        },
                        "type": "bar"
                      }
                    ],
                    "barpolar": [
                      {
                        "marker": {
                          "line": {
                            "color": "#E5ECF6",
                            "width": 0.5
                          },
                          "pattern": {
                            "fillmode": "overlay",
                            "size": 10,
                            "solidity": 0.2
                          }
                        },
                        "type": "barpolar"
                      }
                    ],
                    "carpet": [
                      {
                        "aaxis": {
                          "endlinecolor": "#2a3f5f",
                          "gridcolor": "white",
                          "linecolor": "white",
                          "minorgridcolor": "white",
                          "startlinecolor": "#2a3f5f"
                        },
                        "baxis": {
                          "endlinecolor": "#2a3f5f",
                          "gridcolor": "white",
                          "linecolor": "white",
                          "minorgridcolor": "white",
                          "startlinecolor": "#2a3f5f"
                        },
                        "type": "carpet"
                      }
                    ],
                    "choropleth": [
                      {
                        "colorbar": {
                          "outlinewidth": 0,
                          "ticks": ""
                        },
                        "type": "choropleth"
                      }
                    ],
                    "contour": [
                      {
                        "colorbar": {
                          "outlinewidth": 0,
                          "ticks": ""
                        },
                        "colorscale": [
                          [
                            0,
                            "#0d0887"
                          ],
                          [
                            0.1111111111111111,
                            "#46039f"
                          ],
                          [
                            0.2222222222222222,
                            "#7201a8"
                          ],
                          [
                            0.3333333333333333,
                            "#9c179e"
                          ],
                          [
                            0.4444444444444444,
                            "#bd3786"
                          ],
                          [
                            0.5555555555555556,
                            "#d8576b"
                          ],
                          [
                            0.6666666666666666,
                            "#ed7953"
                          ],
                          [
                            0.7777777777777778,
                            "#fb9f3a"
                          ],
                          [
                            0.8888888888888888,
                            "#fdca26"
                          ],
                          [
                            1,
                            "#f0f921"
                          ]
                        ],
                        "type": "contour"
                      }
                    ],
                    "contourcarpet": [
                      {
                        "colorbar": {
                          "outlinewidth": 0,
                          "ticks": ""
                        },
                        "type": "contourcarpet"
                      }
                    ],
                    "heatmap": [
                      {
                        "colorbar": {
                          "outlinewidth": 0,
                          "ticks": ""
                        },
                        "colorscale": [
                          [
                            0,
                            "#0d0887"
                          ],
                          [
                            0.1111111111111111,
                            "#46039f"
                          ],
                          [
                            0.2222222222222222,
                            "#7201a8"
                          ],
                          [
                            0.3333333333333333,
                            "#9c179e"
                          ],
                          [
                            0.4444444444444444,
                            "#bd3786"
                          ],
                          [
                            0.5555555555555556,
                            "#d8576b"
                          ],
                          [
                            0.6666666666666666,
                            "#ed7953"
                          ],
                          [
                            0.7777777777777778,
                            "#fb9f3a"
                          ],
                          [
                            0.8888888888888888,
                            "#fdca26"
                          ],
                          [
                            1,
                            "#f0f921"
                          ]
                        ],
                        "type": "heatmap"
                      }
                    ],
                    "heatmapgl": [
                      {
                        "colorbar": {
                          "outlinewidth": 0,
                          "ticks": ""
                        },
                        "colorscale": [
                          [
                            0,
                            "#0d0887"
                          ],
                          [
                            0.1111111111111111,
                            "#46039f"
                          ],
                          [
                            0.2222222222222222,
                            "#7201a8"
                          ],
                          [
                            0.3333333333333333,
                            "#9c179e"
                          ],
                          [
                            0.4444444444444444,
                            "#bd3786"
                          ],
                          [
                            0.5555555555555556,
                            "#d8576b"
                          ],
                          [
                            0.6666666666666666,
                            "#ed7953"
                          ],
                          [
                            0.7777777777777778,
                            "#fb9f3a"
                          ],
                          [
                            0.8888888888888888,
                            "#fdca26"
                          ],
                          [
                            1,
                            "#f0f921"
                          ]
                        ],
                        "type": "heatmapgl"
                      }
                    ],
                    "histogram": [
                      {
                        "marker": {
                          "pattern": {
                            "fillmode": "overlay",
                            "size": 10,
                            "solidity": 0.2
                          }
                        },
                        "type": "histogram"
                      }
                    ],
                    "histogram2d": [
                      {
                        "colorbar": {
                          "outlinewidth": 0,
                          "ticks": ""
                        },
                        "colorscale": [
                          [
                            0,
                            "#0d0887"
                          ],
                          [
                            0.1111111111111111,
                            "#46039f"
                          ],
                          [
                            0.2222222222222222,
                            "#7201a8"
                          ],
                          [
                            0.3333333333333333,
                            "#9c179e"
                          ],
                          [
                            0.4444444444444444,
                            "#bd3786"
                          ],
                          [
                            0.5555555555555556,
                            "#d8576b"
                          ],
                          [
                            0.6666666666666666,
                            "#ed7953"
                          ],
                          [
                            0.7777777777777778,
                            "#fb9f3a"
                          ],
                          [
                            0.8888888888888888,
                            "#fdca26"
                          ],
                          [
                            1,
                            "#f0f921"
                          ]
                        ],
                        "type": "histogram2d"
                      }
                    ],
                    "histogram2dcontour": [
                      {
                        "colorbar": {
                          "outlinewidth": 0,
                          "ticks": ""
                        },
                        "colorscale": [
                          [
                            0,
                            "#0d0887"
                          ],
                          [
                            0.1111111111111111,
                            "#46039f"
                          ],
                          [
                            0.2222222222222222,
                            "#7201a8"
                          ],
                          [
                            0.3333333333333333,
                            "#9c179e"
                          ],
                          [
                            0.4444444444444444,
                            "#bd3786"
                          ],
                          [
                            0.5555555555555556,
                            "#d8576b"
                          ],
                          [
                            0.6666666666666666,
                            "#ed7953"
                          ],
                          [
                            0.7777777777777778,
                            "#fb9f3a"
                          ],
                          [
                            0.8888888888888888,
                            "#fdca26"
                          ],
                          [
                            1,
                            "#f0f921"
                          ]
                        ],
                        "type": "histogram2dcontour"
                      }
                    ],
                    "mesh3d": [
                      {
                        "colorbar": {
                          "outlinewidth": 0,
                          "ticks": ""
                        },
                        "type": "mesh3d"
                      }
                    ],
                    "parcoords": [
                      {
                        "line": {
                          "colorbar": {
                            "outlinewidth": 0,
                            "ticks": ""
                          }
                        },
                        "type": "parcoords"
                      }
                    ],
                    "pie": [
                      {
                        "automargin": true,
                        "type": "pie"
                      }
                    ],
                    "scatter": [
                      {
                        "marker": {
                          "colorbar": {
                            "outlinewidth": 0,
                            "ticks": ""
                          }
                        },
                        "type": "scatter"
                      }
                    ],
                    "scatter3d": [
                      {
                        "line": {
                          "colorbar": {
                            "outlinewidth": 0,
                            "ticks": ""
                          }
                        },
                        "marker": {
                          "colorbar": {
                            "outlinewidth": 0,
                            "ticks": ""
                          }
                        },
                        "type": "scatter3d"
                      }
                    ],
                    "scattercarpet": [
                      {
                        "marker": {
                          "colorbar": {
                            "outlinewidth": 0,
                            "ticks": ""
                          }
                        },
                        "type": "scattercarpet"
                      }
                    ],
                    "scattergeo": [
                      {
                        "marker": {
                          "colorbar": {
                            "outlinewidth": 0,
                            "ticks": ""
                          }
                        },
                        "type": "scattergeo"
                      }
                    ],
                    "scattergl": [
                      {
                        "marker": {
                          "colorbar": {
                            "outlinewidth": 0,
                            "ticks": ""
                          }
                        },
                        "type": "scattergl"
                      }
                    ],
                    "scattermapbox": [
                      {
                        "marker": {
                          "colorbar": {
                            "outlinewidth": 0,
                            "ticks": ""
                          }
                        },
                        "type": "scattermapbox"
                      }
                    ],
                    "scatterpolar": [
                      {
                        "marker": {
                          "colorbar": {
                            "outlinewidth": 0,
                            "ticks": ""
                          }
                        },
                        "type": "scatterpolar"
                      }
                    ],
                    "scatterpolargl": [
                      {
                        "marker": {
                          "colorbar": {
                            "outlinewidth": 0,
                            "ticks": ""
                          }
                        },
                        "type": "scatterpolargl"
                      }
                    ],
                    "scatterternary": [
                      {
                        "marker": {
                          "colorbar": {
                            "outlinewidth": 0,
                            "ticks": ""
                          }
                        },
                        "type": "scatterternary"
                      }
                    ],
                    "surface": [
                      {
                        "colorbar": {
                          "outlinewidth": 0,
                          "ticks": ""
                        },
                        "colorscale": [
                          [
                            0,
                            "#0d0887"
                          ],
                          [
                            0.1111111111111111,
                            "#46039f"
                          ],
                          [
                            0.2222222222222222,
                            "#7201a8"
                          ],
                          [
                            0.3333333333333333,
                            "#9c179e"
                          ],
                          [
                            0.4444444444444444,
                            "#bd3786"
                          ],
                          [
                            0.5555555555555556,
                            "#d8576b"
                          ],
                          [
                            0.6666666666666666,
                            "#ed7953"
                          ],
                          [
                            0.7777777777777778,
                            "#fb9f3a"
                          ],
                          [
                            0.8888888888888888,
                            "#fdca26"
                          ],
                          [
                            1,
                            "#f0f921"
                          ]
                        ],
                        "type": "surface"
                      }
                    ],
                    "table": [
                      {
                        "cells": {
                          "fill": {
                            "color": "#EBF0F8"
                          },
                          "line": {
                            "color": "white"
                          }
                        },
                        "header": {
                          "fill": {
                            "color": "#C8D4E3"
                          },
                          "line": {
                            "color": "white"
                          }
                        },
                        "type": "table"
                      }
                    ]
                  },
                  "layout": {
                    "annotationdefaults": {
                      "arrowcolor": "#2a3f5f",
                      "arrowhead": 0,
                      "arrowwidth": 1
                    },
                    "autotypenumbers": "strict",
                    "coloraxis": {
                      "colorbar": {
                        "outlinewidth": 0,
                        "ticks": ""
                      }
                    },
                    "colorscale": {
                      "diverging": [
                        [
                          0,
                          "#8e0152"
                        ],
                        [
                          0.1,
                          "#c51b7d"
                        ],
                        [
                          0.2,
                          "#de77ae"
                        ],
                        [
                          0.3,
                          "#f1b6da"
                        ],
                        [
                          0.4,
                          "#fde0ef"
                        ],
                        [
                          0.5,
                          "#f7f7f7"
                        ],
                        [
                          0.6,
                          "#e6f5d0"
                        ],
                        [
                          0.7,
                          "#b8e186"
                        ],
                        [
                          0.8,
                          "#7fbc41"
                        ],
                        [
                          0.9,
                          "#4d9221"
                        ],
                        [
                          1,
                          "#276419"
                        ]
                      ],
                      "sequential": [
                        [
                          0,
                          "#0d0887"
                        ],
                        [
                          0.1111111111111111,
                          "#46039f"
                        ],
                        [
                          0.2222222222222222,
                          "#7201a8"
                        ],
                        [
                          0.3333333333333333,
                          "#9c179e"
                        ],
                        [
                          0.4444444444444444,
                          "#bd3786"
                        ],
                        [
                          0.5555555555555556,
                          "#d8576b"
                        ],
                        [
                          0.6666666666666666,
                          "#ed7953"
                        ],
                        [
                          0.7777777777777778,
                          "#fb9f3a"
                        ],
                        [
                          0.8888888888888888,
                          "#fdca26"
                        ],
                        [
                          1,
                          "#f0f921"
                        ]
                      ],
                      "sequentialminus": [
                        [
                          0,
                          "#0d0887"
                        ],
                        [
                          0.1111111111111111,
                          "#46039f"
                        ],
                        [
                          0.2222222222222222,
                          "#7201a8"
                        ],
                        [
                          0.3333333333333333,
                          "#9c179e"
                        ],
                        [
                          0.4444444444444444,
                          "#bd3786"
                        ],
                        [
                          0.5555555555555556,
                          "#d8576b"
                        ],
                        [
                          0.6666666666666666,
                          "#ed7953"
                        ],
                        [
                          0.7777777777777778,
                          "#fb9f3a"
                        ],
                        [
                          0.8888888888888888,
                          "#fdca26"
                        ],
                        [
                          1,
                          "#f0f921"
                        ]
                      ]
                    },
                    "colorway": [
                      "#636efa",
                      "#EF553B",
                      "#00cc96",
                      "#ab63fa",
                      "#FFA15A",
                      "#19d3f3",
                      "#FF6692",
                      "#B6E880",
                      "#FF97FF",
                      "#FECB52"
                    ],
                    "font": {
                      "color": "#2a3f5f"
                    },
                    "geo": {
                      "bgcolor": "white",
                      "lakecolor": "white",
                      "landcolor": "#E5ECF6",
                      "showlakes": true,
                      "showland": true,
                      "subunitcolor": "white"
                    },
                    "hoverlabel": {
                      "align": "left"
                    },
                    "hovermode": "closest",
                    "mapbox": {
                      "style": "light"
                    },
                    "paper_bgcolor": "white",
                    "plot_bgcolor": "#E5ECF6",
                    "polar": {
                      "angularaxis": {
                        "gridcolor": "white",
                        "linecolor": "white",
                        "ticks": ""
                      },
                      "bgcolor": "#E5ECF6",
                      "radialaxis": {
                        "gridcolor": "white",
                        "linecolor": "white",
                        "ticks": ""
                      }
                    },
                    "scene": {
                      "xaxis": {
                        "backgroundcolor": "#E5ECF6",
                        "gridcolor": "white",
                        "gridwidth": 2,
                        "linecolor": "white",
                        "showbackground": true,
                        "ticks": "",
                        "zerolinecolor": "white"
                      },
                      "yaxis": {
                        "backgroundcolor": "#E5ECF6",
                        "gridcolor": "white",
                        "gridwidth": 2,
                        "linecolor": "white",
                        "showbackground": true,
                        "ticks": "",
                        "zerolinecolor": "white"
                      },
                      "zaxis": {
                        "backgroundcolor": "#E5ECF6",
                        "gridcolor": "white",
                        "gridwidth": 2,
                        "linecolor": "white",
                        "showbackground": true,
                        "ticks": "",
                        "zerolinecolor": "white"
                      }
                    },
                    "shapedefaults": {
                      "line": {
                        "color": "#2a3f5f"
                      }
                    },
                    "ternary": {
                      "aaxis": {
                        "gridcolor": "white",
                        "linecolor": "white",
                        "ticks": ""
                      },
                      "baxis": {
                        "gridcolor": "white",
                        "linecolor": "white",
                        "ticks": ""
                      },
                      "bgcolor": "#E5ECF6",
                      "caxis": {
                        "gridcolor": "white",
                        "linecolor": "white",
                        "ticks": ""
                      }
                    },
                    "title": {
                      "x": 0.05
                    },
                    "xaxis": {
                      "automargin": true,
                      "gridcolor": "white",
                      "linecolor": "white",
                      "ticks": "",
                      "title": {
                        "standoff": 15
                      },
                      "zerolinecolor": "white",
                      "zerolinewidth": 2
                    },
                    "yaxis": {
                      "automargin": true,
                      "gridcolor": "white",
                      "linecolor": "white",
                      "ticks": "",
                      "title": {
                        "standoff": 15
                      },
                      "zerolinecolor": "white",
                      "zerolinewidth": 2
                    }
                  }
                },
                "title": {
                  "text": "French towns"
                }
              }
            }
          },
          "metadata": {},
          "output_type": "display_data"
        }
      ],
      "source": [
        "import plotly.graph_objects as go\n",
        "\n",
        "import pandas as pd\n",
        "\n",
        "fig = go.Figure(data=go.Scattergeo(lon=table_villes['LONG'],\n",
        "                lat=table_villes['LAT'],\n",
        "                text=table_villes.index,\n",
        "                mode='markers',\n",
        "                marker_color=table_villes['LAT'],\n",
        "                ))\n",
        "\n",
        "fig.update_layout(title='French towns',\n",
        "                  geo_scope='europe',\n",
        "                  )\n",
        "fig.show()"
      ]
    },
    {
      "cell_type": "code",
      "execution_count": null,
      "metadata": {},
      "outputs": [],
      "source": []
    }
  ],
  "metadata": {
    "colab": {
      "collapsed_sections": [],
      "name": "Distances et isodistances.ipynb",
      "provenance": []
    },
    "kernelspec": {
      "display_name": "Python 3.7.0 64-bit ('venv_essais': venv)",
      "language": "python",
      "name": "python3"
    },
    "language_info": {
      "codemirror_mode": {
        "name": "ipython",
        "version": 3
      },
      "file_extension": ".py",
      "mimetype": "text/x-python",
      "name": "python",
      "nbconvert_exporter": "python",
      "pygments_lexer": "ipython3",
      "version": "3.7.0"
    },
    "vscode": {
      "interpreter": {
        "hash": "1c83fe684675ab112514183324007e5adf603f171a3c66172b6543ff64208249"
      }
    }
  },
  "nbformat": 4,
  "nbformat_minor": 0
}
